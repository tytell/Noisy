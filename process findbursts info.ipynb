{
 "cells": [
  {
   "cell_type": "code",
   "execution_count": 1,
   "metadata": {
    "collapsed": true
   },
   "outputs": [],
   "source": [
    "import re\n",
    "import os, sys"
   ]
  },
  {
   "cell_type": "code",
   "execution_count": 2,
   "metadata": {
    "collapsed": true
   },
   "outputs": [],
   "source": [
    "filename = 'FindBursts_gui-All files.txt'"
   ]
  },
  {
   "cell_type": "code",
   "execution_count": 90,
   "metadata": {
    "collapsed": false
   },
   "outputs": [
    {
     "name": "stdout",
     "output_type": "stream",
     "text": [
      "params.L24_rost_052.threshold = [-0.450816 -0.0402448 -0.524267 -0.277275;0.540617 0.0558435 0.339285 0.238219];\n",
      "params.L24_rost_052.interburstdur = [0.12 0.3 0.13 0.12];\n",
      "params.L24_rost_052.minspikes = [2 2 2 2];\n",
      "params.L24_rost_052.goodchan = [1 0 1 1];\n",
      "params.L24_rost_053.threshold = [-0.396072 -0.0665947 -0.396863 -0.240827;0.396072 0.0665947 0.396863 0.240827];\n",
      "params.L24_rost_053.interburstdur = [0.18 0.3 0.15 0.15];\n",
      "params.L24_rost_053.minspikes = [3 2 3 3];\n",
      "params.L24_rost_053.goodchan = [1 0 1 1];\n",
      "params.L24_rost_054.threshold = [-0.396072 -0.0665947 -0.552317 -0.260564;0.396072 0.0665947 0.396863 0.240827];\n",
      "params.L24_rost_054.interburstdur = [0.18 0.3 0.15 0.15];\n",
      "params.L24_rost_054.minspikes = [3 2 3 3];\n",
      "params.L24_rost_054.goodchan = [1 0 1 1];\n",
      "params.L24_rost_059.threshold = [-0.396072 -0.0665947 -0.706312 -0.259629;0.403157 0.0665947 0.291297 0.306765];\n",
      "params.L24_rost_059.interburstdur = [0.12 0.3 0.15 0.12];\n",
      "params.L24_rost_059.minspikes = [3 2 2 3];\n",
      "params.L24_rost_059.goodchan = [1 0 1 1];\n",
      "params.L29_rost_030.threshold = [-0.300613 -0.315143 -1.05835 -0.211557 -0.813337;0.211275 0.190755 0.829924 0.126043 0.813337];\n",
      "params.L29_rost_030.interburstdur = [0.15 0.15 0.3 0.15 0.3];\n",
      "params.L29_rost_030.minspikes = [2 2 2 2 2];\n",
      "params.L29_rost_030.goodchan = [1 1 0 1 0];\n",
      "params.L29_rost_031.threshold = [-0.37587 -0.258293 -0.130567 -0.216227 -0.295071;0.366466 0.204933 0.130567 0.137501 0.295071];\n",
      "params.L29_rost_031.interburstdur = [0.2 0.15 0.3 0.12 0.3];\n",
      "params.L29_rost_031.minspikes = [2 2 2 2 2];\n",
      "params.L29_rost_031.goodchan = [1 1 0 1 0];\n",
      "params.L29_rost_032.threshold = [-0.37587 -0.258293 -0.130567 -0.216227 -0.295071;0.366466 0.204933 0.130567 0.137501 0.295071];\n",
      "params.L29_rost_032.interburstdur = [0.2 0.15 0.3 0.12 0.3];\n",
      "params.L29_rost_032.minspikes = [2 2 2 2 2];\n",
      "params.L29_rost_032.goodchan = [1 1 0 1 0];\n",
      "params.L29_rost_042.threshold = [-0.300613 -0.315143 -1.05835 -0.211557 -0.813337;0.211275 0.190755 0.829924 0.126043 0.813337];\n",
      "params.L29_rost_042.interburstdur = [0.15 0.15 0.3 0.15 0.3];\n",
      "params.L29_rost_042.minspikes = [2 2 2 2 2];\n",
      "params.L29_rost_042.goodchan = [1 1 0 1 0];\n",
      "params.L29_rost_045.threshold = [-0.324747 -0.287135 -1.10633 -0.217001 -0.290525;0.346075 0.211035 0.996983 0.151408 0.290525];\n",
      "params.L29_rost_045.interburstdur = [0.15 0.2 0.3 0.15 0.3];\n",
      "params.L29_rost_045.minspikes = [2 2 2 2 2];\n",
      "params.L29_rost_045.goodchan = [1 1 0 1 0];\n",
      "params.L29_rost_046.threshold = [-0.300613 -0.315143 -1.05835 -0.211557 -0.813337;0.211275 0.190755 0.829924 0.126043 0.813337];\n",
      "params.L29_rost_046.interburstdur = [0.15 0.15 0.3 0.15 0.3];\n",
      "params.L29_rost_046.minspikes = [2 2 2 2 2];\n",
      "params.L29_rost_047.threshold = [-0.278783 -0.257107 -0.370001 -0.122952 -0.183135;0.275804 0.2077 0.633096 0.168052 0.293775];\n",
      "params.L29_rost_047.interburstdur = [0.15 0.2 0.3 0.2 0.3];\n",
      "params.L29_rost_047.minspikes = [2 2 2 2 2];\n",
      "params.L29_rost_047.goodchan = [1 1 0 1 0];\n",
      "params.L32_caud_022.threshold = [-0.224697 -0.235924 -0.186034;0.120675 0.156165 0.222845];\n",
      "params.L32_caud_022.interburstdur = [0.15 0.2 0.15];\n",
      "params.L32_caud_022.minspikes = [2 2 2];\n",
      "params.L32_caud_022.goodchan = [1 1 1];\n",
      "params.L32_caud_027.threshold = [-0.241111 -0.100676 -0.127067;0.138337 0.111071 0.135523];\n",
      "params.L32_caud_027.interburstdur = [0.3 0.3 0.15];\n",
      "params.L32_caud_027.minspikes = [1 2 2];\n",
      "params.L32_caud_027.goodchan = [1 1 1];\n",
      "params.L32_caud_028.threshold = [-0.241111 -0.100676 -0.127067;0.138337 0.111071 0.135523];\n",
      "params.L32_caud_028.interburstdur = [0.3 0.3 0.15];\n",
      "params.L32_caud_028.minspikes = [1 2 2];\n",
      "params.L32_caud_028.goodchan = [1 1 1];\n",
      "params.L32_caud_023.threshold = [-0.241111 -0.125672 -0.195292;0.138337 0.138943 0.209799];\n",
      "params.L32_caud_023.interburstdur = [0.3 0.3 0.3];\n",
      "params.L32_caud_023.minspikes = [1 2 2];\n",
      "params.L32_caud_023.goodchan = [1 1 1];\n",
      "params.L32_caud_026.threshold = [-0.241111 -0.125672 -0.195292;0.138337 0.138943 0.209799];\n",
      "params.L32_caud_026.interburstdur = [0.3 0.3 0.3];\n",
      "params.L32_caud_026.minspikes = [1 2 2];\n",
      "params.L32_caud_026.goodchan = [1 1 1];\n",
      "params.L32_rost_081.threshold = [-0.151801 -0.274477 -0.193808;0.126155 0.231663 0.17973];\n",
      "params.L32_rost_081.interburstdur = [0.2 0.2 0.2];\n",
      "params.L32_rost_081.minspikes = [2 2 2];\n",
      "params.L32_rost_081.goodchan = [1 1 1];\n",
      "params.L32_rost_080.threshold = [-0.122331 -0.263708 -0.178244;0.123511 0.188587 0.164166];\n",
      "params.L32_rost_080.interburstdur = [0.15 0.2 0.15];\n",
      "params.L32_rost_080.minspikes = [2 2 2];\n",
      "params.L32_rost_080.goodchan = [1 1 1];\n",
      "params.L33_caud_026.threshold = [-0.218958 -0.315235 -0.341507;0.209078 0.315235 0.797589];\n",
      "params.L33_caud_026.interburstdur = [0.2 0.15 0.15];\n",
      "params.L33_caud_026.minspikes = [2 2 2];\n",
      "params.L33_caud_026.goodchan = [1 1 1];\n",
      "params.L33_caud_027.threshold = [-0.251432 -0.864881 -0.408651;0.224219 0.455656 0.564664];\n",
      "params.L33_caud_027.interburstdur = [0.2 0.1 0.1];\n",
      "params.L33_caud_027.minspikes = [2 2 2];\n",
      "params.L33_caud_027.goodchan = [1 1 1];\n",
      "params.L33_caud_028.threshold = [-0.218958 -0.59826 -0.341507;0.209078 0.401542 0.797589];\n",
      "params.L33_caud_028.interburstdur = [0.15 0.15 0.15];\n",
      "params.L33_caud_028.minspikes = [2 2 2];\n",
      "params.L33_caud_028.goodchan = [1 1 1];\n",
      "params.L33_caud_029.threshold = [-0.241813 -0.453836 -0.304586;0.265527 0.480014 0.285299];\n",
      "params.L33_caud_029.interburstdur = [0.2 0.2 0.15];\n",
      "params.L33_caud_029.minspikes = [2 2 2];\n",
      "params.L33_caud_029.goodchan = [1 1 1];\n",
      "params.L33_caud_030.threshold = [-0.241813 -0.453836 -0.304586;0.265527 0.480014 0.285299];\n",
      "params.L33_caud_030.interburstdur = [0.15 0.2 0.12];\n",
      "params.L33_caud_030.minspikes = [2 2 2];\n",
      "params.L33_caud_030.goodchan = [1 1 1];\n",
      "params.L33_caud_031.threshold = [-0.228542 -0.709174 -0.329383;0.235165 0.563859 0.595834];\n",
      "params.L33_caud_031.interburstdur = [0.2 0.12 0.15];\n",
      "params.L33_caud_031.minspikes = [2 2 2];\n",
      "params.L33_caud_031.goodchan = [1 1 1];\n",
      "params.L33_caud_037.threshold = [-0.228542 -0.709174 -0.329383;0.235165 0.479551 0.430921];\n",
      "params.L33_caud_037.interburstdur = [0.2 0.12 0.15];\n",
      "params.L33_caud_037.minspikes = [2 2 2];\n",
      "params.L33_caud_037.goodchan = [1 1 1];\n",
      "params.L33_rost_063.threshold = [-0.102531 -0.465189 -0.4087;0.139795 0.345513 0.430921];\n",
      "params.L33_rost_063.interburstdur = [0.2 0.3 0.15];\n",
      "params.L33_rost_063.minspikes = [2 2 2];\n",
      "params.L33_rost_063.goodchan = [1 1 1];\n",
      "params.L33_rost_071.threshold = [-0.102531 -0.401856 -0.4087;0.111304 0.345513 0.371518];\n",
      "params.L33_rost_071.interburstdur = [0.2 0.2 0.15];\n",
      "params.L33_rost_071.minspikes = [2 2 2];\n",
      "params.L33_rost_071.goodchan = [1 1 1];\n",
      "params.L35_rost_021.threshold = [-0.211056 -0.133545 -0.275463;0.195827 0.157625 0.309486];\n",
      "params.L35_rost_021.interburstdur = [0.2 0.2 0.2];\n",
      "params.L35_rost_021.minspikes = [1 2 1];\n",
      "params.L35_rost_021.goodchan = [1 1 1];\n",
      "params.L35_rost_022.threshold = [-0.211056 -0.133545 -0.275463;0.195827 0.157625 0.309486];\n",
      "params.L35_rost_022.interburstdur = [0.2 0.2 0.2];\n",
      "params.L35_rost_022.minspikes = [1 2 1];\n",
      "params.L35_rost_022.goodchan = [1 1 1];\n",
      "params.L35_rost_023.threshold = [-0.211056 -0.133545 -0.275463;0.195827 0.157625 0.309486];\n",
      "params.L35_rost_023.interburstdur = [0.2 0.2 0.2];\n",
      "params.L35_rost_023.minspikes = [1 2 1];\n",
      "params.L35_rost_023.goodchan = [1 1 1];\n",
      "params.L35_rost_024.threshold = [-0.202344 -0.144195 -0.275463;0.193162 0.146057 0.309486];\n",
      "params.L35_rost_024.interburstdur = [0.2 0.15 0.2];\n",
      "params.L35_rost_024.minspikes = [2 2 1];\n",
      "params.L35_rost_024.goodchan = [1 1 1];\n",
      "params.L35_rost_025.threshold = [-0.202344 -0.144195 -0.275463;0.193162 0.146057 0.309486];\n",
      "params.L35_rost_025.interburstdur = [0.2 0.15 0.2];\n",
      "params.L35_rost_025.minspikes = [2 2 1];\n",
      "params.L35_rost_025.goodchan = [1 1 1];\n",
      "params.L35_rost_033.threshold = [-0.202344 -0.144195 -0.275463;0.193162 0.146057 0.309486];\n",
      "params.L35_rost_033.interburstdur = [0.2 0.15 0.2];\n",
      "params.L35_rost_033.minspikes = [2 2 1];\n",
      "params.L35_rost_033.goodchan = [1 1 1];\n"
     ]
    }
   ],
   "source": [
    "with open(filename,'rU') as f:\n",
    "    for ln in f:\n",
    "        m = re.match('o (L\\d+-(rost|caud)-\\d+)', ln)\n",
    "        if m:\n",
    "            trialname = m.group(1)\n",
    "            trialname = trialname.replace('-','_')\n",
    "            continue\n",
    "        \n",
    "        mthresh = re.search(\"'threshold', (\\[[0-9\\-\\s.;]+\\])\",ln)\n",
    "        minterburst = re.search(\"'interburstdur', (\\[[0-9\\-\\s.;]+\\])\",ln)\n",
    "        mminspikes = re.search(\"'minspikes', (\\[[0-9\\-\\s.;]+\\])\",ln)\n",
    "        mgoodchan = re.search(\"'goodchan', (\\[[0-9\\-\\s.;]+\\])\",ln)\n",
    "\n",
    "        if mthresh:\n",
    "            print 'params.{0}.threshold = {1};'.format(trialname, mthresh.group(1))\n",
    "        if minterburst:\n",
    "            print 'params.{0}.interburstdur = {1};'.format(trialname, minterburst.group(1))\n",
    "        if mminspikes:\n",
    "            print 'params.{0}.minspikes = {1};'.format(trialname, mminspikes.group(1))\n",
    "        if mgoodchan:\n",
    "            print 'params.{0}.goodchan = {1};'.format(trialname, mgoodchan.group(1))"
   ]
  },
  {
   "cell_type": "code",
   "execution_count": 87,
   "metadata": {
    "collapsed": false
   },
   "outputs": [
    {
     "data": {
      "text/plain": [
       "True"
      ]
     },
     "execution_count": 87,
     "metadata": {},
     "output_type": "execute_result"
    }
   ],
   "source": [
    "mgoodchan is None"
   ]
  },
  {
   "cell_type": "code",
   "execution_count": 69,
   "metadata": {
    "collapsed": false
   },
   "outputs": [],
   "source": [
    "ln = \"data = findbursts_gui(data, 'threshold', [-0.450816 -0.0402448 -0.524267 -0.277275;0.540617 0.0558435 0.339285 0.238219], 'interburstdur', [0.12 0.3 0.13 0.12],'minspikes', [2 2 2 2], 'goodchan', [1 0 1 1], 'quiet')\""
   ]
  },
  {
   "cell_type": "code",
   "execution_count": 70,
   "metadata": {
    "collapsed": false
   },
   "outputs": [
    {
     "data": {
      "text/plain": [
       "\"data = findbursts_gui(data, 'threshold', [-0.450816 -0.0402448 -0.524267 -0.277275;0.540617 0.0558435 0.339285 0.238219], 'interburstdur', [0.12 0.3 0.13 0.12],'minspikes', [2 2 2 2], 'goodchan', [1 0 1 1], 'quiet')\""
      ]
     },
     "execution_count": 70,
     "metadata": {},
     "output_type": "execute_result"
    }
   ],
   "source": [
    "ln"
   ]
  },
  {
   "cell_type": "code",
   "execution_count": 75,
   "metadata": {
    "collapsed": false
   },
   "outputs": [],
   "source": [
    "m = re.search(\"\\'threshold\\', (\\[[0-9\\-\\s.;]+\\])\",ln)"
   ]
  },
  {
   "cell_type": "code",
   "execution_count": 76,
   "metadata": {
    "collapsed": false
   },
   "outputs": [
    {
     "data": {
      "text/plain": [
       "'[-0.450816 -0.0402448 -0.524267 -0.277275;0.540617 0.0558435 0.339285 0.238219]'"
      ]
     },
     "execution_count": 76,
     "metadata": {},
     "output_type": "execute_result"
    }
   ],
   "source": [
    "m.group(1)"
   ]
  },
  {
   "cell_type": "code",
   "execution_count": null,
   "metadata": {
    "collapsed": true
   },
   "outputs": [],
   "source": []
  }
 ],
 "metadata": {
  "kernelspec": {
   "display_name": "Python 2",
   "language": "python",
   "name": "python2"
  },
  "language_info": {
   "codemirror_mode": {
    "name": "ipython",
    "version": 2
   },
   "file_extension": ".py",
   "mimetype": "text/x-python",
   "name": "python",
   "nbconvert_exporter": "python",
   "pygments_lexer": "ipython2",
   "version": "2.7.10"
  }
 },
 "nbformat": 4,
 "nbformat_minor": 0
}
